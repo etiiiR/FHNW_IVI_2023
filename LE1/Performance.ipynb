{
 "cells": [
  {
   "cell_type": "markdown",
   "id": "65737382",
   "metadata": {},
   "source": [
    "https://neuraldatascience.io/8-mri/nifti.html"
   ]
  },
  {
   "cell_type": "code",
   "execution_count": null,
   "id": "e78aa110",
   "metadata": {
    "lines_to_next_cell": 0,
    "title": "imports"
   },
   "outputs": [],
   "source": [
    "import pandas as pd\n",
    "import numpy as np\n",
    "import matplotlib.pyplot as plt\n",
    "import scipy.ndimage as ndi\n",
    "import nibabel as nib\n",
    "import os\n",
    "import nilearn as nil\n"
   ]
  },
  {
   "cell_type": "code",
   "execution_count": null,
   "id": "81678d0d",
   "metadata": {},
   "outputs": [],
   "source": [
    "%pip install psutil gputil\n",
    "%pip install pywidgets - -user\n",
    "%pip install psutil gputil\n"
   ]
  },
  {
   "cell_type": "markdown",
   "id": "3b0f829b",
   "metadata": {},
   "source": [
    "## Image Data"
   ]
  },
  {
   "cell_type": "code",
   "execution_count": null,
   "id": "54ce8a01",
   "metadata": {
    "title": "read data"
   },
   "outputs": [],
   "source": [
    "brain_vol = nib.load(\n",
    "    '..\\\\..\\\\\\\\gitlab\\\\ml\\\\eda\\\\download\\\\ADNI\\\\002_S_0413\\\\MPR____N3__Scaled\\\\2006-05-19_16_17_47.0\\\\I40657\\\\ADNI_002_S_0413_MR_MPR____N3__Scaled_Br_20070216232854688_S14782_I40657.nii')\n"
   ]
  },
  {
   "cell_type": "code",
   "execution_count": null,
   "id": "d2a4000a",
   "metadata": {},
   "outputs": [],
   "source": [
    "display(brain_vol)\n",
    "print(brain_vol.header)\n"
   ]
  },
  {
   "cell_type": "code",
   "execution_count": null,
   "id": "7adf8228",
   "metadata": {},
   "outputs": [],
   "source": [
    "brain_vol_data = brain_vol.get_fdata()\n",
    "type(brain_vol_data)\n"
   ]
  },
  {
   "cell_type": "code",
   "execution_count": null,
   "id": "3a4b7ecf",
   "metadata": {},
   "outputs": [],
   "source": [
    "brain_vol_data.shape\n"
   ]
  },
  {
   "cell_type": "code",
   "execution_count": null,
   "id": "bb78438f",
   "metadata": {},
   "outputs": [],
   "source": [
    "import nibabel as nib\n",
    "import matplotlib.pyplot as plt\n",
    "import ipywidgets as widgets\n",
    "from ipywidgets import interact\n",
    "import psutil\n",
    "import time\n",
    "\n",
    "# Your existing code to load 'brain_vol' goes here...\n",
    "\n",
    "# Load MRI data\n",
    "data = brain_vol.get_fdata()\n",
    "\n",
    "# Function to visualize a slice\n",
    "\n",
    "\n",
    "def visualize_slice(slice_idx):\n",
    "    # Start monitoring CPU usage\n",
    "    cpu_percent_start = psutil.cpu_percent(interval=None)\n",
    "    time_start = time.time()\n",
    "\n",
    "    # Visualization code\n",
    "    plt.imshow(data[slice_idx, :, :], cmap=\"gray\", origin=\"lower\")\n",
    "    plt.title(f'Slice {slice_idx}')\n",
    "    plt.axis('off')\n",
    "    plt.show()\n",
    "\n",
    "    # End monitoring CPU usage\n",
    "    time_end = time.time()\n",
    "    cpu_percent_end = psutil.cpu_percent(interval=None)\n",
    "\n",
    "    # Calculate and print CPU usage\n",
    "    elapsed_time = time_end - time_start\n",
    "    avg_cpu_percent = (cpu_percent_start + cpu_percent_end) / 2\n",
    "    print(\n",
    "        f\"Elapsed Time: {elapsed_time:.2f} seconds, Average CPU Usage: {avg_cpu_percent:.2f}%\")\n",
    "\n",
    "\n",
    "# Create an interactive slider\n",
    "interact(visualize_slice, slice_idx=widgets.IntSlider(\n",
    "    min=0, max=data.shape[0]-1, step=1, value=data.shape[0]//2))\n"
   ]
  },
  {
   "cell_type": "code",
   "execution_count": 2,
   "id": "9b2a99f1",
   "metadata": {},
   "outputs": [
    {
     "data": {
      "application/vnd.jupyter.widget-view+json": {
       "model_id": "6ed9c10df3644df2992dde7481a3ecd4",
       "version_major": 2,
       "version_minor": 0
      },
      "text/plain": [
       "interactive(children=(IntSlider(value=128, description='slice_idx', max=255), Output()), _dom_classes=('widget…"
      ]
     },
     "metadata": {},
     "output_type": "display_data"
    },
    {
     "data": {
      "text/plain": [
       "<function __main__.visualize_slice(slice_idx)>"
      ]
     },
     "execution_count": 2,
     "metadata": {},
     "output_type": "execute_result"
    },
    {
     "name": "stdout",
     "output_type": "stream",
     "text": [
      "CPU Usage: 1.6%\n",
      "GPU 0 Usage: 8.0%\n",
      "CPU Usage: 2.9%\n",
      "GPU 0 Usage: 9.0%\n",
      "CPU Usage: 0.9%\n",
      "GPU 0 Usage: 3.0%\n",
      "CPU Usage: 1.0%\n",
      "GPU 0 Usage: 26.0%\n",
      "CPU Usage: 1.2%\n",
      "GPU 0 Usage: 8.0%\n",
      "CPU Usage: 0.6%\n",
      "GPU 0 Usage: 3.0%\n",
      "CPU Usage: 1.4%\n",
      "GPU 0 Usage: 4.0%\n",
      "CPU Usage: 0.5%\n",
      "GPU 0 Usage: 6.0%\n",
      "CPU Usage: 0.4%\n",
      "GPU 0 Usage: 19.0%\n",
      "CPU Usage: 1.1%\n",
      "GPU 0 Usage: 37.0%\n",
      "CPU Usage: 0.9%\n",
      "GPU 0 Usage: 8.0%\n",
      "CPU Usage: 0.3%\n",
      "GPU 0 Usage: 0.0%\n",
      "CPU Usage: 0.7%\n",
      "GPU 0 Usage: 23.0%\n",
      "CPU Usage: 0.9%\n",
      "GPU 0 Usage: 23.0%\n",
      "CPU Usage: 0.3%\n",
      "GPU 0 Usage: 0.0%\n",
      "CPU Usage: 1.0%\n",
      "GPU 0 Usage: 0.0%\n",
      "CPU Usage: 2.9%\n",
      "GPU 0 Usage: 1.0%\n",
      "CPU Usage: 3.9%\n",
      "GPU 0 Usage: 30.0%\n",
      "CPU Usage: 0.5%\n",
      "GPU 0 Usage: 30.0%\n",
      "CPU Usage: 1.7%\n",
      "GPU 0 Usage: 28.000000000000004%\n",
      "CPU Usage: 2.2%\n",
      "GPU 0 Usage: 39.0%\n"
     ]
    }
   ],
   "source": [
    "# With Lazy Loading\n",
    "import nibabel as nib\n",
    "import matplotlib.pyplot as plt\n",
    "import ipywidgets as widgets\n",
    "from ipywidgets import interact\n",
    "import psutil\n",
    "import time\n",
    "\n",
    "# Load MRI data file (without loading data into memory)\n",
    "brain_vol = nib.load('..\\\\..\\\\..\\\\gitlab\\\\ml\\\\eda\\\\download\\\\ADNI\\\\002_S_0413\\\\MPR____N3__Scaled\\\\2006-05-19_16_17_47.0\\\\I40657\\\\ADNI_002_S_0413_MR_MPR____N3__Scaled_Br_20070216232854688_S14782_I40657.nii')\n",
    "\n",
    "# Function to visualize a slice\n",
    "\n",
    "\n",
    "def visualize_slice(slice_idx):\n",
    "    # Start monitoring CPU usage\n",
    "    cpu_percent_start = psutil.cpu_percent(interval=None)\n",
    "    time_start = time.time()\n",
    "\n",
    "    # Load only the required slice from the data file\n",
    "    data_slice = brain_vol.dataobj[slice_idx, :, :]\n",
    "\n",
    "    # Visualization code\n",
    "    plt.imshow(data_slice, cmap=\"gray\", origin=\"lower\")\n",
    "    plt.title(f'Slice {slice_idx}')\n",
    "    plt.axis('off')\n",
    "    plt.show()\n",
    "\n",
    "    # End monitoring CPU usage\n",
    "    time_end = time.time()\n",
    "    cpu_percent_end = psutil.cpu_percent(interval=None)\n",
    "\n",
    "    # Calculate and print CPU usage\n",
    "    elapsed_time = time_end - time_start\n",
    "    avg_cpu_percent = (cpu_percent_start + cpu_percent_end) / 2\n",
    "    print(\n",
    "        f\"Elapsed Time: {elapsed_time:.2f} seconds, Average CPU Usage: {avg_cpu_percent:.2f}%\")\n",
    "\n",
    "\n",
    "# Create an interactive slider\n",
    "interact(visualize_slice, slice_idx=widgets.IntSlider(\n",
    "    min=0, max=brain_vol.shape[0]-1, step=1, value=brain_vol.shape[0]//2))\n"
   ]
  },
  {
   "cell_type": "code",
   "execution_count": null,
   "id": "06b5a2f4",
   "metadata": {},
   "outputs": [],
   "source": [
    "import plotly.graph_objects as go\n",
    "import time\n",
    "import numpy as np\n",
    "import threading\n",
    "import GPUtil\n",
    "from skimage import io\n",
    "from skimage.transform import resize\n",
    "from matplotlib import pyplot as plt\n",
    "brain_vol = nib.load('..\\\\..\\\\..\\\\gitlab\\\\ml\\\\eda\\\\download\\\\ADNI\\\\002_S_0413\\\\MPR____N3__Scaled\\\\2006-05-19_16_17_47.0\\\\I40657\\\\ADNI_002_S_0413_MR_MPR____N3__Scaled_Br_20070216232854688_S14782_I40657.nii')\n",
    "\n",
    "vol = brain_vol_data\n",
    "volume = vol.T\n",
    "r, c = volume[0].shape\n",
    "print(r, c)\n",
    "\n",
    "# Define frames\n",
    "nb_frames = 68\n",
    "\n",
    "layout = go.Layout(\n",
    "    width=600,\n",
    "    height=600,\n",
    "    updatemenus=[{\n",
    "        'buttons': [\n",
    "            {\n",
    "                'args': [None, {'frame': {'duration': 50, 'redraw': True}, 'fromcurrent': True}],\n",
    "                'label': 'Play',\n",
    "                'method': 'animate'\n",
    "            },\n",
    "            {\n",
    "                'args': [[None], {'frame': {'duration': 0, 'redraw': True}, 'mode': 'immediate'}],\n",
    "                'label': 'Pause',\n",
    "                'method': 'animate'\n",
    "            }\n",
    "        ],\n",
    "        'direction': 'left',\n",
    "        'pad': {'r': 10, 't': 87},\n",
    "        'showactive': False,\n",
    "        'type': 'buttons',\n",
    "        'x': 0.1,\n",
    "        'xanchor': 'right',\n",
    "        'y': 0,\n",
    "        'yanchor': 'top'\n",
    "    }]\n",
    ")\n",
    "\n",
    "fig = go.Figure(\n",
    "    layout=layout,\n",
    "    frames=[go.Frame(\n",
    "        data=go.Surface(\n",
    "            z=(6.7 - k * 0.1) * np.ones((r, c)),\n",
    "            surfacecolor=np.flipud(volume[67 - k]),\n",
    "            cmin=0, cmax=200\n",
    "        ),\n",
    "        name=str(k)\n",
    "    ) for k in range(nb_frames)]\n",
    ")\n",
    "\n",
    "# Add data to be displayed before animation starts\n",
    "fig.add_trace(go.Surface(\n",
    "    z=6.7 * np.ones((r, c)),\n",
    "    surfacecolor=np.flipud(volume[67]),\n",
    "    colorscale='Gray',\n",
    "    cmin=0, cmax=200,\n",
    "    colorbar=dict(thickness=20, ticklen=4)\n",
    "))\n",
    "\n",
    "# Function to perform the visualization\n",
    "\n",
    "\n",
    "def visualize():\n",
    "    fig.show()\n",
    "\n",
    "# Function to monitor GPU usage\n",
    "\n",
    "\n",
    "def monitor_gpu(duration):\n",
    "    gpu_loads = []\n",
    "    for _ in range(duration):\n",
    "        gpus = GPUtil.getGPUs()\n",
    "        gpu_load = gpus[0].load if gpus else 0\n",
    "        gpu_loads.append(gpu_load)\n",
    "        # print(f\"GPU Load: {gpu_load*100:.2f}%\")\n",
    "        time.sleep(1)\n",
    "    # print(\"Average GPU Load:\", np.mean(gpu_loads) * 100)\n",
    "\n",
    "\n",
    "# Duration to monitor usage (in seconds)\n",
    "monitor_duration = 60  # e.g., 60 seconds\n",
    "\n",
    "# Start the visualization in a separate thread\n",
    "viz_thread = threading.Thread(target=visualize)\n",
    "viz_thread.start()\n",
    "\n",
    "# Monitor GPU usage\n",
    "monitor_gpu(monitor_duration)\n",
    "\n",
    "# Wait for the visualization to finish if it's still running\n",
    "viz_thread.join()\n"
   ]
  },
  {
   "cell_type": "code",
   "execution_count": null,
   "id": "99568324",
   "metadata": {},
   "outputs": [],
   "source": [
    "import tkinter as tk\n",
    "from tkinter import filedialog\n",
    "import nibabel as nib\n",
    "import matplotlib.pyplot as plt\n",
    "from matplotlib.backends.backend_tkagg import FigureCanvasTkAgg\n",
    "import psutil\n",
    "import time\n",
    "\n",
    "\n",
    "class MRIViewer(tk.Tk):\n",
    "    def __init__(self, *args, **kwargs):\n",
    "        super().__init__(*args, **kwargs)\n",
    "        self.title(\"MRI Viewer\")\n",
    "        self.canvas = None\n",
    "        self.data = None\n",
    "        self.slice_idx = tk.IntVar(value=0)\n",
    "        self.create_widgets()\n",
    "\n",
    "    def create_widgets(self):\n",
    "        self.load_button = tk.Button(\n",
    "            self, text=\"Load MRI\", command=self.load_mri)\n",
    "        self.load_button.pack()\n",
    "        self.slice_slider = tk.Scale(\n",
    "            self, from_=0, to=0, orient=tk.HORIZONTAL, variable=self.slice_idx, command=self.update_slice)\n",
    "        self.slice_slider.pack()\n",
    "\n",
    "    def load_mri(self):\n",
    "        file_path = filedialog.askopenfilename(title=\"Select MRI File\")\n",
    "        if file_path:\n",
    "            brain_vol = nib.load(file_path)\n",
    "            self.data = brain_vol.get_fdata()\n",
    "            self.slice_slider.config(to=self.data.shape[0] - 1)\n",
    "            self.update_slice()\n",
    "\n",
    "    def update_slice(self, *args):\n",
    "        if self.data is not None:\n",
    "            slice_idx = self.slice_idx.get()\n",
    "            fig, ax = plt.subplots()\n",
    "            ax.imshow(self.data[slice_idx, :, :], cmap=\"gray\", origin=\"lower\")\n",
    "            ax.set_title(f'Slice {slice_idx}')\n",
    "            ax.axis('off')\n",
    "\n",
    "            if self.canvas is not None:\n",
    "                self.canvas.get_tk_widget().destroy()\n",
    "\n",
    "            self.canvas = FigureCanvasTkAgg(fig, master=self)\n",
    "            self.canvas.draw()\n",
    "            self.canvas.get_tk_widget().pack()\n",
    "\n",
    "\n",
    "if __name__ == \"__main__\":\n",
    "    app = MRIViewer()\n",
    "    app.mainloop()\n"
   ]
  },
  {
   "cell_type": "code",
   "execution_count": 2,
   "id": "f453e053",
   "metadata": {},
   "outputs": [],
   "source": [
    "import nibabel as nib\n",
    "import pyqtgraph as pg\n",
    "from pyqtgraph.Qt import QtGui, QtCore\n"
   ]
  },
  {
   "cell_type": "code",
   "execution_count": 3,
   "id": "8ae6cc4e",
   "metadata": {},
   "outputs": [
    {
     "name": "stdout",
     "output_type": "stream",
     "text": [
      "(256, 256, 170)\n",
      "float64\n"
     ]
    },
    {
     "data": {
      "text/plain": [
       "0"
      ]
     },
     "execution_count": 3,
     "metadata": {},
     "output_type": "execute_result"
    }
   ],
   "source": [
    "import nibabel as nib\n",
    "import pyqtgraph as pg\n",
    "from pyqtgraph.Qt import QtGui\n",
    "\n",
    "# Load the NIfTI file\n",
    "nii_file_path = '..\\\\..\\\\..\\\\gitlab\\\\ml\\\\eda\\\\download\\\\ADNI\\\\002_S_0413\\\\MPR____N3__Scaled\\\\2006-05-19_16_17_47.0\\\\I40657\\\\ADNI_002_S_0413_MR_MPR____N3__Scaled_Br_20070216232854688_S14782_I40657.nii'\n",
    "img = nib.load(nii_file_path)\n",
    "\n",
    "# Get the data as a numpy array\n",
    "data = img.get_fdata()\n",
    "print(data.shape)  # This should print the dimensions of your data\n",
    "print(data.dtype)  # This should print the data type of your data\n",
    "single_slice = data[:, :, 85]  # Taking a slice from the middle\n",
    "\n",
    "pg.setConfigOptions(imageAxisOrder='row-major')\n",
    "\n",
    "pg.mkQApp()\n",
    "imv = pg.ImageView()\n",
    "imv.show()\n",
    "imv.setImage(data)\n",
    "imv.ui.roiBtn.setChecked(True)\n",
    "imv.roiClicked()\n",
    "pg.QtCore.QCoreApplication.instance().exec_()\n"
   ]
  },
  {
   "cell_type": "code",
   "execution_count": 1,
   "id": "be813335",
   "metadata": {},
   "outputs": [
    {
     "name": "stdout",
     "output_type": "stream",
     "text": [
      "(256, 256, 170)\n",
      "float64\n",
      "CPU Usage: 2.8%\n",
      "GPU 0 Usage: 28.000000000000004%\n",
      "CPU Usage: 1.1%\n",
      "GPU 0 Usage: 34.0%\n",
      "CPU Usage: 0.6%\n",
      "GPU 0 Usage: 38.0%\n",
      "CPU Usage: 0.7%\n",
      "GPU 0 Usage: 33.0%\n",
      "CPU Usage: 0.5%\n",
      "GPU 0 Usage: 42.0%\n",
      "CPU Usage: 1.2%\n",
      "GPU 0 Usage: 38.0%\n",
      "CPU Usage: 1.9%\n",
      "GPU 0 Usage: 41.0%\n",
      "CPU Usage: 1.4%\n",
      "GPU 0 Usage: 38.0%\n",
      "CPU Usage: 0.7%\n",
      "GPU 0 Usage: 34.0%\n",
      "CPU Usage: 0.8%\n",
      "GPU 0 Usage: 30.0%\n"
     ]
    },
    {
     "data": {
      "text/plain": [
       "0"
      ]
     },
     "execution_count": 1,
     "metadata": {},
     "output_type": "execute_result"
    },
    {
     "name": "stdout",
     "output_type": "stream",
     "text": [
      "CPU Usage: 2.4%\n",
      "GPU 0 Usage: 8.0%\n",
      "CPU Usage: 0.6%\n",
      "GPU 0 Usage: 0.0%\n",
      "CPU Usage: 0.5%\n",
      "GPU 0 Usage: 33.0%\n",
      "CPU Usage: 0.9%\n",
      "GPU 0 Usage: 28.999999999999996%\n",
      "CPU Usage: 1.5%\n",
      "GPU 0 Usage: 15.0%\n",
      "CPU Usage: 2.8%\n",
      "GPU 0 Usage: 52.0%\n"
     ]
    }
   ],
   "source": [
    "import nibabel as nib\n",
    "import pyqtgraph as pg\n",
    "from pyqtgraph.Qt import QtGui\n",
    "import psutil\n",
    "import GPUtil\n",
    "import threading\n",
    "import time\n",
    "\n",
    "def monitor_usage():\n",
    "    while True:\n",
    "        # CPU Usage\n",
    "        cpu_usage = psutil.cpu_percent(interval=1)\n",
    "        print(f'CPU Usage: {cpu_usage}%')\n",
    "\n",
    "        # GPU Usage\n",
    "        gpus = GPUtil.getGPUs()\n",
    "        for gpu in gpus:\n",
    "            print(f'GPU {gpu.id} Usage: {gpu.load*100}%')\n",
    "\n",
    "        time.sleep(5)  # Update every 5 seconds\n",
    "\n",
    "# Start the monitoring in a separate thread\n",
    "monitor_thread = threading.Thread(target=monitor_usage)\n",
    "monitor_thread.daemon = True\n",
    "monitor_thread.start()\n",
    "\n",
    "# Load the NIfTI file\n",
    "nii_file_path = '..\\\\..\\\\..\\\\gitlab\\\\ml\\\\eda\\\\download\\\\ADNI\\\\002_S_0413\\\\MPR____N3__Scaled\\\\2006-05-19_16_17_47.0\\\\I40657\\\\ADNI_002_S_0413_MR_MPR____N3__Scaled_Br_20070216232854688_S14782_I40657.nii'\n",
    "img = nib.load(nii_file_path)\n",
    "\n",
    "\n",
    "\n",
    "# Get the data as a numpy array\n",
    "data = img.get_fdata()\n",
    "print(data.shape)  # This should print the dimensions of your data\n",
    "print(data.dtype)  # This should print the data type of your data\n",
    "single_slice = data[:, :, 85]  # Taking a slice from the middle\n",
    "\n",
    "pg.setConfigOptions(imageAxisOrder='row-major')\n",
    "\n",
    "pg.mkQApp()\n",
    "imv = pg.ImageView()\n",
    "imv.show()\n",
    "imv.setImage(data)\n",
    "imv.ui.roiBtn.setChecked(True)\n",
    "imv.roiClicked()\n",
    "\n",
    "pg.QtCore.QCoreApplication.instance().exec_()\n"
   ]
  },
  {
   "cell_type": "code",
   "execution_count": 1,
   "id": "61a6f8de",
   "metadata": {},
   "outputs": [
    {
     "data": {
      "text/plain": [
       "0"
      ]
     },
     "execution_count": 1,
     "metadata": {},
     "output_type": "execute_result"
    }
   ],
   "source": [
    "import numpy as np\n",
    "import pyqtgraph as pg\n",
    "from pyqtgraph.Qt import QtGui\n",
    "\n",
    "# Generate a random 2D array\n",
    "test_data = np.random.random((256, 256))\n",
    "\n",
    "# Display the image\n",
    "pg.image(test_data).show()\n",
    "pg.exec()"
   ]
  }
 ],
 "metadata": {
  "jupytext": {
   "cell_metadata_filter": "title,-all",
   "main_language": "python",
   "notebook_metadata_filter": "-all"
  },
  "kernelspec": {
   "display_name": "Python 3",
   "language": "python",
   "name": "python3"
  },
  "language_info": {
   "codemirror_mode": {
    "name": "ipython",
    "version": 3
   },
   "file_extension": ".py",
   "mimetype": "text/x-python",
   "name": "python",
   "nbconvert_exporter": "python",
   "pygments_lexer": "ipython3",
   "version": "3.11.4"
  }
 },
 "nbformat": 4,
 "nbformat_minor": 5
}
