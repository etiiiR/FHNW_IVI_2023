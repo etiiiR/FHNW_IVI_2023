{
 "cells": [
  {
   "cell_type": "code",
   "execution_count": 7,
   "metadata": {
    "ExecuteTime": {
     "end_time": "2023-11-08T15:10:49.430483700Z",
     "start_time": "2023-11-08T15:10:49.404297800Z"
    }
   },
   "outputs": [
    {
     "ename": "ModuleNotFoundError",
     "evalue": "No module named 'plotly'",
     "output_type": "error",
     "traceback": [
      "\u001B[1;31m---------------------------------------------------------------------------\u001B[0m",
      "\u001B[1;31mModuleNotFoundError\u001B[0m                       Traceback (most recent call last)",
      "Cell \u001B[1;32mIn[7], line 4\u001B[0m\n\u001B[0;32m      2\u001B[0m \u001B[38;5;28;01mimport\u001B[39;00m \u001B[38;5;21;01mtime\u001B[39;00m\n\u001B[0;32m      3\u001B[0m \u001B[38;5;28;01mimport\u001B[39;00m \u001B[38;5;21;01mnumpy\u001B[39;00m \u001B[38;5;28;01mas\u001B[39;00m \u001B[38;5;21;01mnp\u001B[39;00m\n\u001B[1;32m----> 4\u001B[0m \u001B[38;5;28;01mimport\u001B[39;00m \u001B[38;5;21;01mplotly\u001B[39;00m\u001B[38;5;21;01m.\u001B[39;00m\u001B[38;5;21;01mexpress\u001B[39;00m \u001B[38;5;28;01mas\u001B[39;00m \u001B[38;5;21;01mpx\u001B[39;00m\n\u001B[0;32m      5\u001B[0m \u001B[38;5;28;01mimport\u001B[39;00m \u001B[38;5;21;01mdatashader\u001B[39;00m \u001B[38;5;28;01mas\u001B[39;00m \u001B[38;5;21;01mds\u001B[39;00m\n\u001B[0;32m      6\u001B[0m \u001B[38;5;28;01mfrom\u001B[39;00m \u001B[38;5;21;01mcolorcet\u001B[39;00m \u001B[38;5;28;01mimport\u001B[39;00m fire\n",
      "\u001B[1;31mModuleNotFoundError\u001B[0m: No module named 'plotly'"
     ]
    }
   ],
   "source": [
    "import pandas as pd\n",
    "import time\n",
    "import numpy as np\n",
    "import plotly.express as px\n",
    "import datashader as ds\n",
    "from colorcet import fire\n",
    "import datashader.transfer_functions as tf"
   ]
  },
  {
   "cell_type": "code",
   "execution_count": null,
   "metadata": {
    "ExecuteTime": {
     "start_time": "2023-11-08T15:10:49.419481Z"
    }
   },
   "outputs": [],
   "source": [
    "df = pd.read_csv('https://raw.githubusercontent.com/plotly/datasets/master/uber-rides-data1.csv')\n",
    "dff = df.query('Lat < 40.82').query('Lat > 40.70').query('Lon > -74.02').query('Lon < -73.91')\n",
    "\n",
    "import datashader as ds\n",
    "cvs = ds.Canvas(plot_width=1000, plot_height=1000)\n",
    "agg = cvs.points(dff, x='Lon', y='Lat')\n",
    "# agg is an xarray object, see http://xarray.pydata.org/en/stable/ for more details\n",
    "coords_lat, coords_lon = agg.coords['Lat'].values, agg.coords['Lon'].values\n",
    "# Corners of the image, which need to be passed to mapbox\n",
    "coordinates = [[coords_lon[0], coords_lat[0]],\n",
    "               [coords_lon[-1], coords_lat[0]],\n",
    "               [coords_lon[-1], coords_lat[-1]],\n",
    "               [coords_lon[0], coords_lat[-1]]]\n",
    "\n",
    "from colorcet import fire\n",
    "import datashader.transfer_functions as tf\n",
    "img = tf.shade(agg, cmap=fire)[::-1].to_pil()\n",
    "\n",
    "import plotly.express as px\n",
    "# Trick to create rapidly a figure with mapbox axes\n",
    "fig = px.scatter_mapbox(dff[:1], lat='Lat', lon='Lon', zoom=12)\n",
    "# Add the datashader image as a mapbox layer image\n",
    "fig.update_layout(mapbox_style=\"carto-darkmatter\",\n",
    "                 mapbox_layers = [\n",
    "                {\n",
    "                    \"sourcetype\": \"image\",\n",
    "                    \"source\": img,\n",
    "                    \"coordinates\": coordinates\n",
    "                }]\n",
    ")\n",
    "fig.show()"
   ]
  },
  {
   "cell_type": "code",
   "execution_count": null,
   "metadata": {
    "ExecuteTime": {
     "start_time": "2023-11-08T15:10:49.421482Z"
    }
   },
   "outputs": [],
   "source": [
    "import pandas as pd\n",
    "import plotly.express as px\n",
    "\n",
    "# Load the data\n",
    "df = pd.read_csv('https://raw.githubusercontent.com/plotly/datasets/master/uber-rides-data1.csv')\n",
    "\n",
    "# Filter the data\n",
    "dff = df.query('40.70 < Lat < 40.82').query('-74.02 < Lon < -73.91')\n",
    "\n",
    "# Create a scatter plot on a map\n",
    "fig = px.scatter_mapbox(dff, lat='Lat', lon='Lon', zoom=10, height=300)\n",
    "\n",
    "# Update the layout to use a dark map style\n",
    "fig.update_layout(mapbox_style=\"carto-darkmatter\")\n",
    "\n",
    "# Show the figure\n",
    "fig.show()\n"
   ]
  },
  {
   "cell_type": "code",
   "execution_count": null,
   "metadata": {
    "ExecuteTime": {
     "start_time": "2023-11-08T15:10:49.423481Z"
    }
   },
   "outputs": [],
   "source": [
    "# Function to simulate filtering data based on a zoom level to mimic LOD\n",
    "def filter_data(df, zoom_level):\n",
    "    if zoom_level < 10:\n",
    "        # At low zoom levels, sample the dataset to reduce size\n",
    "        frac = 1 / (11 - zoom_level)  # Less detail as we zoom out\n",
    "        return df.sample(frac=frac)\n",
    "    else:\n",
    "        # At high zoom levels, use the full dataset\n",
    "        return df\n",
    "    \n",
    "\n",
    "# Function to simulate the rendering of a subset of the data and measure time\n",
    "def benchmark_data_size(df, fraction):\n",
    "    start_time = time.time()\n",
    "    \n",
    "    # Reduce the dataset according to the fraction specified\n",
    "    dff = df.sample(frac=fraction) if fraction < 1 else df\n",
    "    \n",
    "    # Visualization code with datashader\n",
    "    cvs = ds.Canvas(plot_width=500, plot_height=500)\n",
    "    agg = cvs.points(dff, 'Lon', 'Lat')\n",
    "    img = tf.shade(agg, cmap=fire)[::-1].to_pil()\n",
    "    \n",
    "    end_time = time.time()\n",
    "    return end_time - start_time  # Return the time taken to simulate rendering\n",
    "\n",
    "# Function to simulate rendering the visualization and measure time\n",
    "def benchmark_rendering(df, zoom_level, width=500, height=500):\n",
    "    start_time = time.time()\n",
    "    \n",
    "    # Filter data based on zoom level\n",
    "    dff = filter_data(df, zoom_level)\n",
    "    \n",
    "    # Visualization code\n",
    "    cvs = ds.Canvas(plot_width=width, plot_height=height)\n",
    "    agg = cvs.points(dff, 'Lon', 'Lat')\n",
    "    img = tf.shade(agg, cmap=fire)[::-1].to_pil()\n",
    "\n",
    "    # Using Plotly to display the data - not the actual rendering time\n",
    "    fig = px.scatter_mapbox(dff[:1], lat='Lat', lon='Lon', zoom=zoom_level)\n",
    "    fig.update_layout(mapbox_style=\"carto-darkmatter\",\n",
    "                      mapbox_layers=[{\n",
    "                          \"sourcetype\": \"image\",\n",
    "                          \"source\": img,\n",
    "                          \"coordinates\": [[-74.02, 40.70], [-73.91, 40.70], [-73.91, 40.82], [-74.02, 40.82]]\n",
    "                      }]\n",
    "                     )\n",
    "    # Note: This will not display in a non-interactive environment\n",
    "# fig.show()\n",
    "\n",
    "    end_time = time.time()\n",
    "    return end_time - start_time  # Return the time taken to simulate rendering\n",
    "\n",
    "\n"
   ]
  },
  {
   "cell_type": "code",
   "execution_count": null,
   "metadata": {
    "ExecuteTime": {
     "start_time": "2023-11-08T15:10:49.424480800Z"
    }
   },
   "outputs": [],
   "source": [
    "# Load the dataset\n",
    "df = pd.read_csv('https://raw.githubusercontent.com/plotly/datasets/master/uber-rides-data1.csv')\n",
    "\n"
   ]
  },
  {
   "cell_type": "code",
   "execution_count": null,
   "metadata": {
    "ExecuteTime": {
     "start_time": "2023-11-08T15:10:49.426483400Z"
    }
   },
   "outputs": [],
   "source": [
    "# Benchmark performance at different zoom levels\n",
    "zoom_levels = [5, 8, 10, 12, 15]\n",
    "for zoom in zoom_levels:\n",
    "    time_taken = benchmark_rendering(df, zoom)\n",
    "    print(f\"Time taken to render at zoom level {zoom}: {time_taken:.4f} seconds\")"
   ]
  },
  {
   "cell_type": "code",
   "execution_count": null,
   "metadata": {
    "ExecuteTime": {
     "start_time": "2023-11-08T15:10:49.427481100Z"
    }
   },
   "outputs": [],
   "source": [
    "# Benchmark performance at different zoom levels\n",
    "zoom_levels = [5, 8, 10, 12, 15]\n",
    "for zoom in zoom_levels:\n",
    "    time_taken = benchmark_rendering(df, zoom, width=10000, height=10000)\n",
    "    print(f\"Time taken to render at zoom level {zoom}: {time_taken:.4f} seconds\")"
   ]
  },
  {
   "cell_type": "code",
   "execution_count": null,
   "metadata": {
    "ExecuteTime": {
     "start_time": "2023-11-08T15:10:49.428483800Z"
    }
   },
   "outputs": [],
   "source": [
    "def benchmark_plotly_rendering(df, zoom, width=500, height=500):\n",
    "    start_time = time.time()\n",
    "    \n",
    "    # Create Plotly figure using native scatter\n",
    "    fig = px.scatter_mapbox(df, lat='Lat', lon='Lon', zoom=zoom, height=height, width=width)\n",
    "    fig.update_layout(mapbox_style=\"carto-darkmatter\")\n",
    "    fig.update_traces(marker=dict(size=3))\n",
    "    \n",
    "    # We don't actually display the figure in this benchmarking function.\n",
    "    # In a live environment, you would use fig.show()\n",
    "    \n",
    "    end_time = time.time()\n",
    "    return end_time - start_time  # Return the time taken for this rendering approach\n",
    "\n",
    "# Benchmark performance at different zoom levels\n",
    "zoom_levels = [5, 8, 10, 12, 15]\n",
    "for zoom in zoom_levels:\n",
    "    time_taken = benchmark_plotly_rendering(df, zoom)\n",
    "    print(f\"Time taken to render at zoom level {zoom} with Plotly native scatter: {time_taken:.4f} seconds\")"
   ]
  },
  {
   "cell_type": "code",
   "execution_count": null,
   "metadata": {
    "ExecuteTime": {
     "start_time": "2023-11-08T15:10:49.429479200Z"
    }
   },
   "outputs": [],
   "source": [
    "# Data size benchmarks\n",
    "fractions = [0.01, 0.05, 0.1, 0.5, 1, 1000000000000]  # Fractions of the original data size to use in the benchmark\n",
    "for fraction in fractions:\n",
    "    time_taken = benchmark_data_size(df, fraction)\n",
    "    data_size = len(df) * fraction\n",
    "    print(f\"Time taken to render with {data_size:.0f} data points (fraction: {fraction}): {time_taken:.4f} seconds\")"
   ]
  },
  {
   "cell_type": "code",
   "execution_count": null,
   "metadata": {
    "ExecuteTime": {
     "end_time": "2023-11-08T15:10:49.473010400Z",
     "start_time": "2023-11-08T15:10:49.431479100Z"
    }
   },
   "outputs": [],
   "source": [
    "# Benchmark rendering with actual larger datasets by duplicating the dataframe\n",
    "multiples = [1, 2, 5, 10, 100]  # Multiples of the original data size\n",
    "for multiple in multiples:\n",
    "    # Concatenate the dataframe to itself 'multiple' times\n",
    "    larger_df = pd.concat([df] * multiple)\n",
    "    time_taken = benchmark_data_size(larger_df, 1)\n",
    "    data_size = len(larger_df)\n",
    "    print(f\"Time taken to render with {data_size} data points (multiple: {multiple}): {time_taken:.4f} seconds\")"
   ]
  },
  {
   "cell_type": "code",
   "execution_count": null,
   "metadata": {
    "ExecuteTime": {
     "start_time": "2023-11-08T15:10:49.432480100Z"
    }
   },
   "outputs": [],
   "source": [
    "import pandas as pd\n",
    "import numpy as np\n",
    "import time\n",
    "import matplotlib.pyplot as plt\n",
    "import datashader as ds\n",
    "import datashader.transfer_functions as tf\n",
    "\n",
    "# Load the dataset\n",
    "df = pd.read_csv('https://raw.githubusercontent.com/plotly/datasets/master/uber-rides-data1.csv')\n",
    "\n",
    "# Define the rendering functions for comparison\n",
    "def render_matplotlib(df):\n",
    "    plt.scatter(df['Lon'], df['Lat'], s=1, alpha=0.1)\n",
    "    plt.show()\n",
    "\n",
    "def render_datashader(df):\n",
    "    cvs = ds.Canvas(plot_width=500, plot_height=500)\n",
    "    agg = cvs.points(df, 'Lon', 'Lat')\n",
    "    img = tf.shade(agg, cmap=['lightblue', 'darkblue'])\n",
    "    img.to_pil().show()\n",
    "\n",
    "# Benchmarking function\n",
    "def benchmark_rendering(df, rendering_function):\n",
    "    start_time = time.time()\n",
    "    rendering_function(df)\n",
    "    end_time = time.time()\n",
    "    return end_time - start_time\n",
    "\n",
    "# Perform benchmarking\n",
    "matplotlib_time = benchmark_rendering(df, render_matplotlib)\n",
    "datashader_time = benchmark_rendering(df, render_datashader)\n",
    "\n",
    "print(f\"Matplotlib rendering time: {matplotlib_time:.4f} seconds\")\n",
    "print(f\"Datashader rendering time: {datashader_time:.4f} seconds\")\n"
   ]
  },
  {
   "cell_type": "code",
   "execution_count": null,
   "metadata": {
    "ExecuteTime": {
     "start_time": "2023-11-08T15:10:49.433482800Z"
    }
   },
   "outputs": [],
   "source": [
    "import seaborn as sns\n",
    "\n",
    "# Import the dataset\n",
    "diamonds = sns.load_dataset(\"diamonds\")\n",
    "\n",
    "diamonds.shape\n",
    "(53940, 10)\n",
    "\n",
    "print(diamonds.head())"
   ]
  },
  {
   "cell_type": "code",
   "execution_count": null,
   "metadata": {
    "ExecuteTime": {
     "start_time": "2023-11-08T15:10:49.434480200Z"
    }
   },
   "outputs": [],
   "source": [
    "import matplotlib.pyplot as plt"
   ]
  },
  {
   "cell_type": "code",
   "execution_count": null,
   "metadata": {
    "ExecuteTime": {
     "start_time": "2023-11-08T15:10:49.435480300Z"
    }
   },
   "outputs": [],
   "source": [
    "%%timeit\n",
    "\n",
    "\n",
    "# Measure Matplotlib\n",
    "plt.scatter(\n",
    "    diamonds[\"price\"],\n",
    "    diamonds[\"carat\"],\n",
    ");\n",
    "\n",
    "# stop the timer\n",
    "plt.show()\n"
   ]
  },
  {
   "cell_type": "code",
   "execution_count": null,
   "metadata": {
    "ExecuteTime": {
     "start_time": "2023-11-08T15:10:49.436479700Z"
    }
   },
   "outputs": [],
   "source": [
    "%%timeit\n",
    "\n",
    "# Measure Plotly\n",
    "fig = px.scatter(data_frame=diamonds, x=\"price\", y=\"carat\")\n",
    "\n",
    "fig.show()"
   ]
  }
 ],
 "metadata": {
  "kernelspec": {
   "display_name": "Python 3",
   "language": "python",
   "name": "python3"
  },
  "language_info": {
   "codemirror_mode": {
    "name": "ipython",
    "version": 3
   },
   "file_extension": ".py",
   "mimetype": "text/x-python",
   "name": "python",
   "nbconvert_exporter": "python",
   "pygments_lexer": "ipython3",
   "version": "3.11.6"
  }
 },
 "nbformat": 4,
 "nbformat_minor": 2
}
