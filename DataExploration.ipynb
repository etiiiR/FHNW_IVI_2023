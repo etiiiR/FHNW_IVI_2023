{
 "cells": [
  {
   "cell_type": "markdown",
   "id": "65737382",
   "metadata": {},
   "source": [
    "https://neuraldatascience.io/8-mri/nifti.html"
   ]
  },
  {
   "cell_type": "code",
   "execution_count": null,
   "id": "e78aa110",
   "metadata": {
    "lines_to_next_cell": 0,
    "title": "imports"
   },
   "outputs": [],
   "source": [
    "import pandas as pd\n",
    "import numpy as np\n",
    "import matplotlib.pyplot as plt\n",
    "import scipy.ndimage as ndi\n",
    "import nibabel as nib\n",
    "import os\n",
    "import nilearn as nil\n"
   ]
  },
  {
   "cell_type": "code",
   "execution_count": null,
   "id": "81678d0d",
   "metadata": {},
   "outputs": [],
   "source": [
    "%pip install psutil gputil\n",
    "%pip install pywidgets - -user\n"
   ]
  },
  {
   "cell_type": "markdown",
   "id": "3b0f829b",
   "metadata": {},
   "source": [
    "## Image Data"
   ]
  },
  {
   "cell_type": "code",
   "execution_count": null,
   "id": "54ce8a01",
   "metadata": {
    "title": "read data"
   },
   "outputs": [],
   "source": [
    "brain_vol = nib.load(\n",
    "    '..\\\\eda\\\\download\\\\ADNI\\\\002_S_0413\\\\MPR____N3__Scaled\\\\2006-05-19_16_17_47.0\\\\I40657\\\\ADNI_002_S_0413_MR_MPR____N3__Scaled_Br_20070216232854688_S14782_I40657.nii')\n"
   ]
  },
  {
   "cell_type": "code",
   "execution_count": null,
   "id": "d2a4000a",
   "metadata": {},
   "outputs": [],
   "source": [
    "display(brain_vol)\n",
    "print(brain_vol.header)\n"
   ]
  },
  {
   "cell_type": "code",
   "execution_count": null,
   "id": "7adf8228",
   "metadata": {},
   "outputs": [],
   "source": [
    "brain_vol_data = brain_vol.get_fdata()\n",
    "type(brain_vol_data)\n"
   ]
  },
  {
   "cell_type": "code",
   "execution_count": null,
   "id": "3a4b7ecf",
   "metadata": {},
   "outputs": [],
   "source": [
    "brain_vol_data.shape\n"
   ]
  },
  {
   "cell_type": "code",
   "execution_count": null,
   "id": "bb78438f",
   "metadata": {},
   "outputs": [],
   "source": [
    "import nibabel as nib\n",
    "import matplotlib.pyplot as plt\n",
    "import ipywidgets as widgets\n",
    "from ipywidgets import interact\n",
    "\n",
    "# Load MRI data\n",
    "brain_vol = nib.load(\n",
    "    '..\\\\eda\\\\download\\\\ADNI\\\\002_S_0413\\\\MPR____N3__Scaled\\\\2006-05-19_16_17_47.0\\\\I40657\\\\ADNI_002_S_0413_MR_MPR____N3__Scaled_Br_20070216232854688_S14782_I40657.nii')\n",
    "data = brain_vol.get_fdata()\n",
    "\n",
    "# Function to visualize a slice\n",
    "\n",
    "\n",
    "def visualize_slice(slice_idx):\n",
    "    plt.imshow(data[slice_idx, :, :], cmap=\"gray\", origin=\"lower\")\n",
    "    plt.title(f'Slice {slice_idx}')\n",
    "    plt.axis('off')\n",
    "    plt.show()\n",
    "\n",
    "\n",
    "# Create an interactive slider\n",
    "interact(visualize_slice, slice_idx=widgets.IntSlider(\n",
    "    min=0, max=data.shape[0]-1, step=1, value=data.shape[0]//2))\n"
   ]
  },
  {
   "cell_type": "code",
   "execution_count": null,
   "id": "9b9f29f6",
   "metadata": {},
   "outputs": [],
   "source": [
    "%pip install psutil gputil\n"
   ]
  },
  {
   "cell_type": "code",
   "execution_count": null,
   "id": "06b5a2f4",
   "metadata": {},
   "outputs": [],
   "source": [
    "import plotly.graph_objects as go\n",
    "import time\n",
    "import numpy as np\n",
    "import threading\n",
    "import GPUtil\n",
    "from skimage import io\n",
    "from skimage.transform import resize\n",
    "from matplotlib import pyplot as plt\n",
    "\n",
    "\n",
    "vol = brain_vol_data\n",
    "volume = vol.T\n",
    "r, c = volume[0].shape\n",
    "print(r, c)\n",
    "\n",
    "# Define frames\n",
    "nb_frames = 100\n",
    "\n",
    "fig = go.Figure(frames=[go.Frame(data=go.Surface(\n",
    "    z=(6.7 - k * 0.1) * np.ones((r, c)),\n",
    "    surfacecolor=np.flipud(volume[67 - k]),\n",
    "    cmin=0, cmax=200\n",
    "),\n",
    "    name=str(k)  # you need to name the frame for the animation to behave properly\n",
    ")\n",
    "    for k in range(nb_frames)])\n",
    "\n",
    "# Add data to be displayed before animation starts\n",
    "fig.add_trace(go.Surface(\n",
    "    z=6.7 * np.ones((r, c)),\n",
    "    surfacecolor=np.flipud(volume[67]),\n",
    "    colorscale='Gray',\n",
    "    cmin=0, cmax=200,\n",
    "    colorbar=dict(thickness=20, ticklen=4)\n",
    "))\n",
    "\n",
    "# Your existing code to load 'brain_vol_data' goes here...\n",
    "\n",
    "vol = brain_vol_data\n",
    "volume = vol.T\n",
    "r, c = volume[0].shape\n",
    "\n",
    "# Your existing code to define frames and layout goes here...\n",
    "\n",
    "# Function to perform the visualization\n",
    "\n",
    "\n",
    "def visualize():\n",
    "    fig.show()\n",
    "\n",
    "# Function to monitor GPU usage\n",
    "\n",
    "\n",
    "def monitor_gpu(duration):\n",
    "    gpu_loads = []\n",
    "    for _ in range(duration):\n",
    "        gpus = GPUtil.getGPUs()\n",
    "        gpu_load = gpus[0].load if gpus else 0\n",
    "        gpu_loads.append(gpu_load)\n",
    "        print(f\"GPU Load: {gpu_load*100:.2f}%\")\n",
    "        time.sleep(1)\n",
    "    print(\"Average GPU Load:\", np.mean(gpu_loads) * 100)\n",
    "\n",
    "\n",
    "# Duration to monitor usage (in seconds)\n",
    "monitor_duration = 60  # e.g., 60 seconds\n",
    "\n",
    "# Start the visualization in a separate thread\n",
    "viz_thread = threading.Thread(target=visualize)\n",
    "viz_thread.start()\n",
    "\n",
    "# Monitor GPU usage\n",
    "monitor_gpu(monitor_duration)\n",
    "\n",
    "# Wait for the visualization to finish if it's still running\n",
    "viz_thread.join()\n"
   ]
  }
 ],
 "metadata": {
  "jupytext": {
   "cell_metadata_filter": "title,-all",
   "main_language": "python",
   "notebook_metadata_filter": "-all"
  },
  "kernelspec": {
   "display_name": "Python 3",
   "language": "python",
   "name": "python3"
  },
  "language_info": {
   "codemirror_mode": {
    "name": "ipython",
    "version": 3
   },
   "file_extension": ".py",
   "mimetype": "text/x-python",
   "name": "python",
   "nbconvert_exporter": "python",
   "pygments_lexer": "ipython3",
   "version": "3.11.4"
  }
 },
 "nbformat": 4,
 "nbformat_minor": 5
}
