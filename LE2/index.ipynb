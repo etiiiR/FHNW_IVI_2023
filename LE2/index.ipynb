{
 "cells": [
  {
   "cell_type": "code",
   "execution_count": 3,
   "metadata": {},
   "outputs": [
    {
     "name": "stderr",
     "output_type": "stream",
     "text": [
      "\n",
      "[notice] A new release of pip is available: 23.3.1 -> 23.3.2\n",
      "[notice] To update, run: python.exe -m pip install --upgrade pip\n"
     ]
    },
    {
     "name": "stdout",
     "output_type": "stream",
     "text": [
      "Collecting dashNote: you may need to restart the kernel to use updated packages.\n",
      "\n",
      "  Using cached dash-2.14.2-py3-none-any.whl.metadata (11 kB)\n",
      "Collecting Flask<3.1,>=1.0.4 (from dash)\n",
      "  Using cached flask-3.0.0-py3-none-any.whl.metadata (3.6 kB)\n",
      "Requirement already satisfied: Werkzeug<3.1 in c:\\python311\\lib\\site-packages (from dash) (3.0.1)\n",
      "Requirement already satisfied: plotly>=5.0.0 in c:\\python311\\lib\\site-packages (from dash) (5.18.0)\n",
      "Requirement already satisfied: dash-html-components==2.0.0 in c:\\python311\\lib\\site-packages (from dash) (2.0.0)\n",
      "Requirement already satisfied: dash-core-components==2.0.0 in c:\\python311\\lib\\site-packages (from dash) (2.0.0)\n",
      "Requirement already satisfied: dash-table==5.0.0 in c:\\python311\\lib\\site-packages (from dash) (5.0.0)\n",
      "Requirement already satisfied: typing-extensions>=4.1.1 in c:\\users\\super\\appdata\\roaming\\python\\python311\\site-packages (from dash) (4.8.0)\n",
      "Requirement already satisfied: requests in c:\\python311\\lib\\site-packages (from dash) (2.31.0)\n",
      "Requirement already satisfied: retrying in c:\\python311\\lib\\site-packages (from dash) (1.3.4)\n",
      "Requirement already satisfied: ansi2html in c:\\python311\\lib\\site-packages (from dash) (1.9.1)\n",
      "Requirement already satisfied: nest-asyncio in c:\\users\\super\\appdata\\roaming\\python\\python311\\site-packages (from dash) (1.5.8)\n",
      "Requirement already satisfied: setuptools in c:\\python311\\lib\\site-packages (from dash) (65.5.0)\n",
      "Requirement already satisfied: importlib-metadata in c:\\users\\super\\appdata\\roaming\\python\\python311\\site-packages (from dash) (6.8.0)\n",
      "Requirement already satisfied: Jinja2>=3.1.2 in c:\\users\\super\\appdata\\roaming\\python\\python311\\site-packages (from Flask<3.1,>=1.0.4->dash) (3.1.2)\n",
      "Requirement already satisfied: itsdangerous>=2.1.2 in c:\\python311\\lib\\site-packages (from Flask<3.1,>=1.0.4->dash) (2.1.2)\n",
      "Requirement already satisfied: click>=8.1.3 in c:\\users\\super\\appdata\\roaming\\python\\python311\\site-packages (from Flask<3.1,>=1.0.4->dash) (8.1.7)\n",
      "Requirement already satisfied: blinker>=1.6.2 in c:\\python311\\lib\\site-packages (from Flask<3.1,>=1.0.4->dash) (1.7.0)\n",
      "Requirement already satisfied: tenacity>=6.2.0 in c:\\python311\\lib\\site-packages (from plotly>=5.0.0->dash) (8.2.3)\n",
      "Requirement already satisfied: packaging in c:\\python311\\lib\\site-packages (from plotly>=5.0.0->dash) (23.2)\n",
      "Requirement already satisfied: MarkupSafe>=2.1.1 in c:\\users\\super\\appdata\\roaming\\python\\python311\\site-packages (from Werkzeug<3.1->dash) (2.1.2)\n",
      "Requirement already satisfied: zipp>=0.5 in c:\\users\\super\\appdata\\roaming\\python\\python311\\site-packages (from importlib-metadata->dash) (3.17.0)\n",
      "Requirement already satisfied: charset-normalizer<4,>=2 in c:\\users\\super\\appdata\\roaming\\python\\python311\\site-packages (from requests->dash) (2.1.1)\n",
      "Requirement already satisfied: idna<4,>=2.5 in c:\\users\\super\\appdata\\roaming\\python\\python311\\site-packages (from requests->dash) (3.4)\n",
      "Requirement already satisfied: urllib3<3,>=1.21.1 in c:\\python311\\lib\\site-packages (from requests->dash) (1.26.13)\n",
      "Requirement already satisfied: certifi>=2017.4.17 in c:\\users\\super\\appdata\\roaming\\python\\python311\\site-packages (from requests->dash) (2022.12.7)\n",
      "Requirement already satisfied: six>=1.7.0 in c:\\python311\\lib\\site-packages (from retrying->dash) (1.16.0)\n",
      "Requirement already satisfied: colorama in c:\\users\\super\\appdata\\roaming\\python\\python311\\site-packages (from click>=8.1.3->Flask<3.1,>=1.0.4->dash) (0.4.6)\n",
      "Using cached dash-2.14.2-py3-none-any.whl (10.2 MB)\n",
      "Using cached flask-3.0.0-py3-none-any.whl (99 kB)\n",
      "Installing collected packages: Flask, dash\n",
      "Successfully installed Flask-3.0.0 dash-2.14.2\n"
     ]
    },
    {
     "data": {
      "text/html": [
       "\n",
       "        <iframe\n",
       "            width=\"100%\"\n",
       "            height=\"650\"\n",
       "            src=\"http://127.0.0.1:8050/\"\n",
       "            frameborder=\"0\"\n",
       "            allowfullscreen\n",
       "            \n",
       "        ></iframe>\n",
       "        "
      ],
      "text/plain": [
       "<IPython.lib.display.IFrame at 0x2384d809b50>"
      ]
     },
     "metadata": {},
     "output_type": "display_data"
    }
   ],
   "source": [
    "%pip install dash --user\n",
    "import pandas as pd\n",
    "import plotly.express as px\n",
    "from dash import Dash, html, dcc, Input, Output\n",
    "\n",
    "# Datensatz laden\n",
    "df = pd.read_csv('https://raw.githubusercontent.com/plotly/datasets/master/uber-rides-data1.csv')\n",
    "\n",
    "# Dash-App erstellen (für interaktive Visualisierung)\n",
    "app = Dash(__name__)\n",
    "\n",
    "app.layout = html.Div([\n",
    "    html.H1(\"Uber Rides: Interaktive Visualisierung\"),\n",
    "    dcc.Graph(id='overview_map'),\n",
    "    html.P(\"Wählen Sie eine Region aus, um zu zoomen und zu filtern:\"),\n",
    "    dcc.RangeSlider(\n",
    "        id='lon_range', min=df['Lon'].min(), max=df['Lon'].max(),\n",
    "        step=0.01, value=[df['Lon'].min(), df['Lon'].max()],\n",
    "        marks={i: str(i) for i in range(int(df['Lon'].min()), int(df['Lon'].max())+1)},\n",
    "    ),\n",
    "    dcc.RangeSlider(\n",
    "        id='lat_range', min=df['Lat'].min(), max=df['Lat'].max(),\n",
    "        step=0.01, value=[df['Lat'].min(), df['Lat'].max()],\n",
    "        marks={i: str(i) for i in range(int(df['Lat'].min()), int(df['Lat'].max())+1)},\n",
    "    ),\n",
    "    dcc.Graph(id='zoomed_map'),\n",
    "    html.H3(\"Details auf Anfrage\"),\n",
    "    dcc.Graph(id='details')\n",
    "])\n",
    "\n",
    "@app.callback(\n",
    "    Output('overview_map', 'figure'),\n",
    "    Input('lon_range', 'value'),\n",
    "    Input('lat_range', 'value')\n",
    ")\n",
    "def update_overview(lon_range, lat_range):\n",
    "    filtered_df = df[(df['Lon'] >= lon_range[0]) & (df['Lon'] <= lon_range[1]) &\n",
    "                     (df['Lat'] >= lat_range[0]) & (df['Lat'] <= lat_range[1])]\n",
    "    fig = px.scatter_mapbox(filtered_df, lat='Lat', lon='Lon', zoom=10)\n",
    "    fig.update_layout(mapbox_style=\"open-street-map\")\n",
    "    return fig\n",
    "\n",
    "@app.callback(\n",
    "    Output('zoomed_map', 'figure'),\n",
    "    Input('overview_map', 'selectedData')\n",
    ")\n",
    "def update_zoomed(selectedData):\n",
    "    if selectedData is None:\n",
    "        return px.scatter_mapbox(df, lat='Lat', lon='Lon', zoom=10)\n",
    "\n",
    "    lons = [point['lon'] for point in selectedData['points']]\n",
    "    lats = [point['lat'] for point in selectedData['points']]\n",
    "    zoomed_df = df[df['Lon'].isin(lons) & df['Lat'].isin(lats)]\n",
    "    fig = px.scatter_mapbox(zoomed_df, lat='Lat', lon='Lon', zoom=13)\n",
    "    fig.update_layout(mapbox_style=\"open-street-map\")\n",
    "    return fig\n",
    "\n",
    "@app.callback(\n",
    "    Output('details', 'figure'),\n",
    "    Input('zoomed_map', 'clickData')\n",
    ")\n",
    "def display_click_data(clickData):\n",
    "    if clickData is None:\n",
    "        return go.Figure()\n",
    "\n",
    "    clicked_point = df[(df['Lon'] == clickData['points'][0]['lon']) & \n",
    "                       (df['Lat'] == clickData['points'][0]['lat'])]\n",
    "    fig = go.Figure(data=[go.Bar(x=clicked_point.columns, y=clicked_point.iloc[0])])\n",
    "    fig.update_layout(title='Detailinformationen des ausgewählten Punktes')\n",
    "    return fig\n",
    "\n",
    "if __name__ == '__main__':\n",
    "    app.run_server(debug=True)\n"
   ]
  }
 ],
 "metadata": {
  "kernelspec": {
   "display_name": "Python 3",
   "language": "python",
   "name": "python3"
  },
  "language_info": {
   "codemirror_mode": {
    "name": "ipython",
    "version": 3
   },
   "file_extension": ".py",
   "mimetype": "text/x-python",
   "name": "python",
   "nbconvert_exporter": "python",
   "pygments_lexer": "ipython3",
   "version": "3.11.6"
  }
 },
 "nbformat": 4,
 "nbformat_minor": 2
}
